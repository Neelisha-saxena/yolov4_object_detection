{
 "cells": [
  {
   "cell_type": "code",
   "execution_count": null,
   "metadata": {
    "colab": {
     "base_uri": "https://localhost:8080/"
    },
    "id": "z8UaD2PMtLd3",
    "outputId": "1a2a390c-2ea5-4789-cdfc-cb981a9eb3f9"
   },
   "outputs": [],
   "source": [
    "from google.colab import drive\n",
    "drive.mount('/content/drive/')"
   ]
  },
  {
   "cell_type": "code",
   "execution_count": null,
   "metadata": {
    "colab": {
     "base_uri": "https://localhost:8080/"
    },
    "id": "t41HenKo3God",
    "outputId": "90b18afa-c7d0-4b3f-999d-91b727ce044c"
   },
   "outputs": [],
   "source": [
    "%cd drive/MyDrive/Colab\\ Notebooks/object_detection/"
   ]
  },
  {
   "cell_type": "code",
   "execution_count": null,
   "metadata": {
    "colab": {
     "base_uri": "https://localhost:8080/"
    },
    "id": "XtWGeycvIjcj",
    "outputId": "d8c0845f-da7b-4633-c8c1-80ccee23055c"
   },
   "outputs": [],
   "source": [
    "# clone darknet repo\n",
    "# !git clone https://github.com/AlexeyAB/darknet"
   ]
  },
  {
   "cell_type": "code",
   "execution_count": null,
   "metadata": {
    "colab": {
     "base_uri": "https://localhost:8080/"
    },
    "id": "a9RWiU-3IhmT",
    "outputId": "bc8e12ac-99dd-4e9e-e149-8ec69101881d"
   },
   "outputs": [],
   "source": [
    "# change makefile to have GPU and OPENCV enabled\n",
    "%cd darknet\n",
    "!sed -i 's/OPENCV=0/OPENCV=1/' Makefile\n",
    "!sed -i 's/GPU=0/GPU=1/' Makefile\n",
    "!sed -i 's/CUDNN=0/CUDNN=1/' Makefile\n",
    "!sed -i 's/CUDNN_HALF=0/CUDNN_HALF=1/' Makefile"
   ]
  },
  {
   "cell_type": "code",
   "execution_count": null,
   "metadata": {
    "colab": {
     "base_uri": "https://localhost:8080/"
    },
    "id": "TNM9IMgv8LN_",
    "outputId": "b91db6a7-51c5-4fd8-e64e-6c91e5d122e0"
   },
   "outputs": [],
   "source": [
    "# verify CUDA\n",
    "!/usr/local/cuda/bin/nvcc --version"
   ]
  },
  {
   "cell_type": "code",
   "execution_count": null,
   "metadata": {
    "colab": {
     "base_uri": "https://localhost:8080/"
    },
    "id": "3gX7t5KP8Tam",
    "outputId": "dd07dbfb-6a87-4948-9f62-2a25c80f875d"
   },
   "outputs": [],
   "source": [
    "# make darknet (builds darknet so that you can then use the darknet executable file to run or train object detectors)\n",
    "!make"
   ]
  },
  {
   "cell_type": "code",
   "execution_count": null,
   "metadata": {
    "colab": {
     "base_uri": "https://localhost:8080/"
    },
    "id": "cm9GsZ3HslYi",
    "outputId": "c6d1fed1-c33c-4c79-e2e6-38fc82d2004e"
   },
   "outputs": [],
   "source": [
    "# download yolo v4 pretrained checkpoint\n",
    "!gdown --id 1JKF-bdIklxOOVy-2Cr5qdvjgGpmGfcbp\n"
   ]
  },
  {
   "cell_type": "code",
   "execution_count": null,
   "metadata": {
    "id": "jt68gPQd37dN"
   },
   "outputs": [],
   "source": [
    "%%bash\n",
    "./darknet detector train obj.data yolov4-custom.cfg yolov4.conv.137 -dont_show -map > log.txt"
   ]
  },
  {
   "cell_type": "code",
   "execution_count": null,
   "metadata": {
    "id": "qZh1oHWz7wrT"
   },
   "outputs": [],
   "source": []
  }
 ],
 "metadata": {
  "accelerator": "GPU",
  "colab": {
   "name": "training_yolov4_tiny.ipynb",
   "provenance": []
  },
  "kernelspec": {
   "display_name": "Python 3",
   "language": "python",
   "name": "python3"
  },
  "language_info": {
   "codemirror_mode": {
    "name": "ipython",
    "version": 3
   },
   "file_extension": ".py",
   "mimetype": "text/x-python",
   "name": "python",
   "nbconvert_exporter": "python",
   "pygments_lexer": "ipython3",
   "version": "3.6.9"
  }
 },
 "nbformat": 4,
 "nbformat_minor": 1
}
